{
 "cells": [
  {
   "cell_type": "code",
   "execution_count": 1,
   "metadata": {},
   "outputs": [
    {
     "name": "stdout",
     "output_type": "stream",
     "text": [
      "Requirement already satisfied: pandas in /usr/local/lib/python3.6/dist-packages (1.0.5)\n",
      "Requirement already satisfied: pytz>=2017.2 in /usr/local/lib/python3.6/dist-packages (from pandas) (2020.1)\n",
      "Requirement already satisfied: numpy>=1.13.3 in /usr/local/lib/python3.6/dist-packages (from pandas) (1.18.2)\n",
      "Requirement already satisfied: python-dateutil>=2.6.1 in /usr/local/lib/python3.6/dist-packages (from pandas) (2.8.1)\n",
      "Requirement already satisfied: six>=1.5 in /usr/local/lib/python3.6/dist-packages (from python-dateutil>=2.6.1->pandas) (1.14.0)\n",
      "\u001b[33mWARNING: You are using pip version 20.0.2; however, version 20.1.1 is available.\n",
      "You should consider upgrading via the '/usr/bin/python3 -m pip install --upgrade pip' command.\u001b[0m\n"
     ]
    }
   ],
   "source": [
    "!pip install pandas"
   ]
  },
  {
   "cell_type": "code",
   "execution_count": 2,
   "metadata": {},
   "outputs": [],
   "source": [
    "import pandas as pd"
   ]
  },
  {
   "cell_type": "code",
   "execution_count": 3,
   "metadata": {},
   "outputs": [],
   "source": [
    "data = pd.read_csv('toxic-train.csv')"
   ]
  },
  {
   "cell_type": "code",
   "execution_count": 4,
   "metadata": {},
   "outputs": [
    {
     "data": {
      "text/html": [
       "<div>\n",
       "<style scoped>\n",
       "    .dataframe tbody tr th:only-of-type {\n",
       "        vertical-align: middle;\n",
       "    }\n",
       "\n",
       "    .dataframe tbody tr th {\n",
       "        vertical-align: top;\n",
       "    }\n",
       "\n",
       "    .dataframe thead th {\n",
       "        text-align: right;\n",
       "    }\n",
       "</style>\n",
       "<table border=\"1\" class=\"dataframe\">\n",
       "  <thead>\n",
       "    <tr style=\"text-align: right;\">\n",
       "      <th></th>\n",
       "      <th>id</th>\n",
       "      <th>comment_text</th>\n",
       "      <th>toxic</th>\n",
       "      <th>severe_toxic</th>\n",
       "      <th>obscene</th>\n",
       "      <th>threat</th>\n",
       "      <th>insult</th>\n",
       "      <th>identity_hate</th>\n",
       "    </tr>\n",
       "  </thead>\n",
       "  <tbody>\n",
       "    <tr>\n",
       "      <th>0</th>\n",
       "      <td>0000997932d777bf</td>\n",
       "      <td>Explanation\\nWhy the edits made under my usern...</td>\n",
       "      <td>0</td>\n",
       "      <td>0</td>\n",
       "      <td>0</td>\n",
       "      <td>0</td>\n",
       "      <td>0</td>\n",
       "      <td>0</td>\n",
       "    </tr>\n",
       "    <tr>\n",
       "      <th>1</th>\n",
       "      <td>000103f0d9cfb60f</td>\n",
       "      <td>D'aww! He matches this background colour I'm s...</td>\n",
       "      <td>0</td>\n",
       "      <td>0</td>\n",
       "      <td>0</td>\n",
       "      <td>0</td>\n",
       "      <td>0</td>\n",
       "      <td>0</td>\n",
       "    </tr>\n",
       "    <tr>\n",
       "      <th>2</th>\n",
       "      <td>000113f07ec002fd</td>\n",
       "      <td>Hey man, I'm really not trying to edit war. It...</td>\n",
       "      <td>0</td>\n",
       "      <td>0</td>\n",
       "      <td>0</td>\n",
       "      <td>0</td>\n",
       "      <td>0</td>\n",
       "      <td>0</td>\n",
       "    </tr>\n",
       "    <tr>\n",
       "      <th>3</th>\n",
       "      <td>0001b41b1c6bb37e</td>\n",
       "      <td>\"\\nMore\\nI can't make any real suggestions on ...</td>\n",
       "      <td>0</td>\n",
       "      <td>0</td>\n",
       "      <td>0</td>\n",
       "      <td>0</td>\n",
       "      <td>0</td>\n",
       "      <td>0</td>\n",
       "    </tr>\n",
       "    <tr>\n",
       "      <th>4</th>\n",
       "      <td>0001d958c54c6e35</td>\n",
       "      <td>You, sir, are my hero. Any chance you remember...</td>\n",
       "      <td>0</td>\n",
       "      <td>0</td>\n",
       "      <td>0</td>\n",
       "      <td>0</td>\n",
       "      <td>0</td>\n",
       "      <td>0</td>\n",
       "    </tr>\n",
       "    <tr>\n",
       "      <th>...</th>\n",
       "      <td>...</td>\n",
       "      <td>...</td>\n",
       "      <td>...</td>\n",
       "      <td>...</td>\n",
       "      <td>...</td>\n",
       "      <td>...</td>\n",
       "      <td>...</td>\n",
       "      <td>...</td>\n",
       "    </tr>\n",
       "    <tr>\n",
       "      <th>223544</th>\n",
       "      <td>fff8f64043129fa2</td>\n",
       "      <td>:Jerome, I see you never got around to this…! ...</td>\n",
       "      <td>0</td>\n",
       "      <td>0</td>\n",
       "      <td>0</td>\n",
       "      <td>0</td>\n",
       "      <td>0</td>\n",
       "      <td>0</td>\n",
       "    </tr>\n",
       "    <tr>\n",
       "      <th>223545</th>\n",
       "      <td>fff9d70fe0722906</td>\n",
       "      <td>==Lucky bastard== \\n http://wikimediafoundatio...</td>\n",
       "      <td>0</td>\n",
       "      <td>0</td>\n",
       "      <td>0</td>\n",
       "      <td>0</td>\n",
       "      <td>0</td>\n",
       "      <td>0</td>\n",
       "    </tr>\n",
       "    <tr>\n",
       "      <th>223546</th>\n",
       "      <td>fffa8a11c4378854</td>\n",
       "      <td>==shame on you all!!!== \\n\\n You want to speak...</td>\n",
       "      <td>0</td>\n",
       "      <td>0</td>\n",
       "      <td>0</td>\n",
       "      <td>0</td>\n",
       "      <td>0</td>\n",
       "      <td>0</td>\n",
       "    </tr>\n",
       "    <tr>\n",
       "      <th>223547</th>\n",
       "      <td>fffac2a094c8e0e2</td>\n",
       "      <td>MEL GIBSON IS A NAZI BITCH WHO MAKES SHITTY MO...</td>\n",
       "      <td>1</td>\n",
       "      <td>0</td>\n",
       "      <td>1</td>\n",
       "      <td>0</td>\n",
       "      <td>1</td>\n",
       "      <td>0</td>\n",
       "    </tr>\n",
       "    <tr>\n",
       "      <th>223548</th>\n",
       "      <td>fffb5451268fb5ba</td>\n",
       "      <td>\" \\n\\n == Unicorn lair discovery == \\n\\n Suppo...</td>\n",
       "      <td>0</td>\n",
       "      <td>0</td>\n",
       "      <td>0</td>\n",
       "      <td>0</td>\n",
       "      <td>0</td>\n",
       "      <td>0</td>\n",
       "    </tr>\n",
       "  </tbody>\n",
       "</table>\n",
       "<p>223549 rows × 8 columns</p>\n",
       "</div>"
      ],
      "text/plain": [
       "                      id                                       comment_text  \\\n",
       "0       0000997932d777bf  Explanation\\nWhy the edits made under my usern...   \n",
       "1       000103f0d9cfb60f  D'aww! He matches this background colour I'm s...   \n",
       "2       000113f07ec002fd  Hey man, I'm really not trying to edit war. It...   \n",
       "3       0001b41b1c6bb37e  \"\\nMore\\nI can't make any real suggestions on ...   \n",
       "4       0001d958c54c6e35  You, sir, are my hero. Any chance you remember...   \n",
       "...                  ...                                                ...   \n",
       "223544  fff8f64043129fa2  :Jerome, I see you never got around to this…! ...   \n",
       "223545  fff9d70fe0722906  ==Lucky bastard== \\n http://wikimediafoundatio...   \n",
       "223546  fffa8a11c4378854  ==shame on you all!!!== \\n\\n You want to speak...   \n",
       "223547  fffac2a094c8e0e2  MEL GIBSON IS A NAZI BITCH WHO MAKES SHITTY MO...   \n",
       "223548  fffb5451268fb5ba  \" \\n\\n == Unicorn lair discovery == \\n\\n Suppo...   \n",
       "\n",
       "        toxic  severe_toxic  obscene  threat  insult  identity_hate  \n",
       "0           0             0        0       0       0              0  \n",
       "1           0             0        0       0       0              0  \n",
       "2           0             0        0       0       0              0  \n",
       "3           0             0        0       0       0              0  \n",
       "4           0             0        0       0       0              0  \n",
       "...       ...           ...      ...     ...     ...            ...  \n",
       "223544      0             0        0       0       0              0  \n",
       "223545      0             0        0       0       0              0  \n",
       "223546      0             0        0       0       0              0  \n",
       "223547      1             0        1       0       1              0  \n",
       "223548      0             0        0       0       0              0  \n",
       "\n",
       "[223549 rows x 8 columns]"
      ]
     },
     "execution_count": 4,
     "metadata": {},
     "output_type": "execute_result"
    }
   ],
   "source": [
    "data"
   ]
  },
  {
   "cell_type": "code",
   "execution_count": 5,
   "metadata": {},
   "outputs": [],
   "source": [
    "import tensorflow as tf\n",
    "from sklearn.model_selection import train_test_split\n",
    "from collections import Counter\n",
    "import matplotlib.pyplot as plt\n",
    "%matplotlib inline"
   ]
  },
  {
   "cell_type": "code",
   "execution_count": 116,
   "metadata": {},
   "outputs": [],
   "source": [
    "###КОД ИЗ СЕМИНАРСКОЙ ТЕТРАДКИ\n",
    "from tensorflow.keras import backend as K\n",
    "def f1(y_true, y_pred):\n",
    "    def recall(y_true, y_pred):\n",
    "        \"\"\"Recall metric.\n",
    "\n",
    "        Only computes a batch-wise average of recall.\n",
    "\n",
    "        Computes the recall, a metric for multi-label classification of\n",
    "        how many relevant items are selected.\n",
    "        \"\"\"\n",
    "        true_positives = K.sum(K.round(K.clip(y_true * y_pred, 0, 1)))\n",
    "        possible_positives = K.sum(K.round(K.clip(y_true, 0, 1)))\n",
    "        recall = true_positives / (possible_positives + K.epsilon())\n",
    "        return recall\n",
    "\n",
    "    def precision(y_true, y_pred):\n",
    "        \"\"\"Precision metric.\n",
    "\n",
    "        Only computes a batch-wise average of precision.\n",
    "\n",
    "        Computes the precision, a metric for multi-label classification of\n",
    "        how many selected items are relevant.\n",
    "        \"\"\"\n",
    "        true_positives = K.sum(K.round(K.clip(y_true * y_pred, 0, 1)))\n",
    "        predicted_positives = K.sum(K.round(K.clip(y_pred, 0, 1)))\n",
    "        precision = true_positives / (predicted_positives + K.epsilon())\n",
    "        return precision\n",
    "    precision = precision(y_true, y_pred)\n",
    "    recall = recall(y_true, y_pred)\n",
    "    return 2*((precision*recall)/(precision+recall+K.epsilon()))"
   ]
  },
  {
   "cell_type": "code",
   "execution_count": 6,
   "metadata": {},
   "outputs": [
    {
     "name": "stdout",
     "output_type": "stream",
     "text": [
      "Requirement already satisfied: sklearn in /usr/local/lib/python3.6/dist-packages (0.0)\n",
      "Requirement already satisfied: scikit-learn in /usr/local/lib/python3.6/dist-packages (from sklearn) (0.23.1)\n",
      "Requirement already satisfied: numpy>=1.13.3 in /usr/local/lib/python3.6/dist-packages (from scikit-learn->sklearn) (1.18.2)\n",
      "Requirement already satisfied: joblib>=0.11 in /usr/local/lib/python3.6/dist-packages (from scikit-learn->sklearn) (0.15.1)\n",
      "Requirement already satisfied: scipy>=0.19.1 in /usr/local/lib/python3.6/dist-packages (from scikit-learn->sklearn) (1.4.1)\n",
      "Requirement already satisfied: threadpoolctl>=2.0.0 in /usr/local/lib/python3.6/dist-packages (from scikit-learn->sklearn) (2.1.0)\n",
      "\u001b[33mWARNING: You are using pip version 20.0.2; however, version 20.1.1 is available.\n",
      "You should consider upgrading via the '/usr/bin/python3 -m pip install --upgrade pip' command.\u001b[0m\n",
      "Requirement already satisfied: matplotlib in /usr/local/lib/python3.6/dist-packages (3.2.2)\n",
      "Requirement already satisfied: numpy>=1.11 in /usr/local/lib/python3.6/dist-packages (from matplotlib) (1.18.2)\n",
      "Requirement already satisfied: pyparsing!=2.0.4,!=2.1.2,!=2.1.6,>=2.0.1 in /usr/local/lib/python3.6/dist-packages (from matplotlib) (2.4.7)\n",
      "Requirement already satisfied: kiwisolver>=1.0.1 in /usr/local/lib/python3.6/dist-packages (from matplotlib) (1.2.0)\n",
      "Requirement already satisfied: python-dateutil>=2.1 in /usr/local/lib/python3.6/dist-packages (from matplotlib) (2.8.1)\n",
      "Requirement already satisfied: cycler>=0.10 in /usr/local/lib/python3.6/dist-packages (from matplotlib) (0.10.0)\n",
      "Requirement already satisfied: six>=1.5 in /usr/local/lib/python3.6/dist-packages (from python-dateutil>=2.1->matplotlib) (1.14.0)\n",
      "\u001b[33mWARNING: You are using pip version 20.0.2; however, version 20.1.1 is available.\n",
      "You should consider upgrading via the '/usr/bin/python3 -m pip install --upgrade pip' command.\u001b[0m\n"
     ]
    }
   ],
   "source": [
    "!pip install sklearn\n",
    "!pip install matplotlib"
   ]
  },
  {
   "cell_type": "code",
   "execution_count": 7,
   "metadata": {},
   "outputs": [],
   "source": [
    "import re"
   ]
  },
  {
   "cell_type": "code",
   "execution_count": 8,
   "metadata": {},
   "outputs": [],
   "source": [
    "def preprocessing(text): ###Будем использовать слова и знаки препинания\n",
    "    return re.findall('[a-zA-Z]+|[\\.\\?!,—]', text)"
   ]
  },
  {
   "cell_type": "code",
   "execution_count": 9,
   "metadata": {},
   "outputs": [],
   "source": [
    "data['tokens'] = data['comment_text'].apply(preprocessing)"
   ]
  },
  {
   "cell_type": "code",
   "execution_count": 10,
   "metadata": {},
   "outputs": [
    {
     "data": {
      "text/html": [
       "<div>\n",
       "<style scoped>\n",
       "    .dataframe tbody tr th:only-of-type {\n",
       "        vertical-align: middle;\n",
       "    }\n",
       "\n",
       "    .dataframe tbody tr th {\n",
       "        vertical-align: top;\n",
       "    }\n",
       "\n",
       "    .dataframe thead th {\n",
       "        text-align: right;\n",
       "    }\n",
       "</style>\n",
       "<table border=\"1\" class=\"dataframe\">\n",
       "  <thead>\n",
       "    <tr style=\"text-align: right;\">\n",
       "      <th></th>\n",
       "      <th>id</th>\n",
       "      <th>comment_text</th>\n",
       "      <th>toxic</th>\n",
       "      <th>severe_toxic</th>\n",
       "      <th>obscene</th>\n",
       "      <th>threat</th>\n",
       "      <th>insult</th>\n",
       "      <th>identity_hate</th>\n",
       "      <th>tokens</th>\n",
       "    </tr>\n",
       "  </thead>\n",
       "  <tbody>\n",
       "    <tr>\n",
       "      <th>0</th>\n",
       "      <td>0000997932d777bf</td>\n",
       "      <td>Explanation\\nWhy the edits made under my usern...</td>\n",
       "      <td>0</td>\n",
       "      <td>0</td>\n",
       "      <td>0</td>\n",
       "      <td>0</td>\n",
       "      <td>0</td>\n",
       "      <td>0</td>\n",
       "      <td>[Explanation, Why, the, edits, made, under, my...</td>\n",
       "    </tr>\n",
       "    <tr>\n",
       "      <th>1</th>\n",
       "      <td>000103f0d9cfb60f</td>\n",
       "      <td>D'aww! He matches this background colour I'm s...</td>\n",
       "      <td>0</td>\n",
       "      <td>0</td>\n",
       "      <td>0</td>\n",
       "      <td>0</td>\n",
       "      <td>0</td>\n",
       "      <td>0</td>\n",
       "      <td>[D, aww, !, He, matches, this, background, col...</td>\n",
       "    </tr>\n",
       "    <tr>\n",
       "      <th>2</th>\n",
       "      <td>000113f07ec002fd</td>\n",
       "      <td>Hey man, I'm really not trying to edit war. It...</td>\n",
       "      <td>0</td>\n",
       "      <td>0</td>\n",
       "      <td>0</td>\n",
       "      <td>0</td>\n",
       "      <td>0</td>\n",
       "      <td>0</td>\n",
       "      <td>[Hey, man, ,, I, m, really, not, trying, to, e...</td>\n",
       "    </tr>\n",
       "    <tr>\n",
       "      <th>3</th>\n",
       "      <td>0001b41b1c6bb37e</td>\n",
       "      <td>\"\\nMore\\nI can't make any real suggestions on ...</td>\n",
       "      <td>0</td>\n",
       "      <td>0</td>\n",
       "      <td>0</td>\n",
       "      <td>0</td>\n",
       "      <td>0</td>\n",
       "      <td>0</td>\n",
       "      <td>[More, I, can, t, make, any, real, suggestions...</td>\n",
       "    </tr>\n",
       "    <tr>\n",
       "      <th>4</th>\n",
       "      <td>0001d958c54c6e35</td>\n",
       "      <td>You, sir, are my hero. Any chance you remember...</td>\n",
       "      <td>0</td>\n",
       "      <td>0</td>\n",
       "      <td>0</td>\n",
       "      <td>0</td>\n",
       "      <td>0</td>\n",
       "      <td>0</td>\n",
       "      <td>[You, ,, sir, ,, are, my, hero, ., Any, chance...</td>\n",
       "    </tr>\n",
       "    <tr>\n",
       "      <th>...</th>\n",
       "      <td>...</td>\n",
       "      <td>...</td>\n",
       "      <td>...</td>\n",
       "      <td>...</td>\n",
       "      <td>...</td>\n",
       "      <td>...</td>\n",
       "      <td>...</td>\n",
       "      <td>...</td>\n",
       "      <td>...</td>\n",
       "    </tr>\n",
       "    <tr>\n",
       "      <th>223544</th>\n",
       "      <td>fff8f64043129fa2</td>\n",
       "      <td>:Jerome, I see you never got around to this…! ...</td>\n",
       "      <td>0</td>\n",
       "      <td>0</td>\n",
       "      <td>0</td>\n",
       "      <td>0</td>\n",
       "      <td>0</td>\n",
       "      <td>0</td>\n",
       "      <td>[Jerome, ,, I, see, you, never, got, around, t...</td>\n",
       "    </tr>\n",
       "    <tr>\n",
       "      <th>223545</th>\n",
       "      <td>fff9d70fe0722906</td>\n",
       "      <td>==Lucky bastard== \\n http://wikimediafoundatio...</td>\n",
       "      <td>0</td>\n",
       "      <td>0</td>\n",
       "      <td>0</td>\n",
       "      <td>0</td>\n",
       "      <td>0</td>\n",
       "      <td>0</td>\n",
       "      <td>[Lucky, bastard, http, wikimediafoundation, .,...</td>\n",
       "    </tr>\n",
       "    <tr>\n",
       "      <th>223546</th>\n",
       "      <td>fffa8a11c4378854</td>\n",
       "      <td>==shame on you all!!!== \\n\\n You want to speak...</td>\n",
       "      <td>0</td>\n",
       "      <td>0</td>\n",
       "      <td>0</td>\n",
       "      <td>0</td>\n",
       "      <td>0</td>\n",
       "      <td>0</td>\n",
       "      <td>[shame, on, you, all, !, !, !, You, want, to, ...</td>\n",
       "    </tr>\n",
       "    <tr>\n",
       "      <th>223547</th>\n",
       "      <td>fffac2a094c8e0e2</td>\n",
       "      <td>MEL GIBSON IS A NAZI BITCH WHO MAKES SHITTY MO...</td>\n",
       "      <td>1</td>\n",
       "      <td>0</td>\n",
       "      <td>1</td>\n",
       "      <td>0</td>\n",
       "      <td>1</td>\n",
       "      <td>0</td>\n",
       "      <td>[MEL, GIBSON, IS, A, NAZI, BITCH, WHO, MAKES, ...</td>\n",
       "    </tr>\n",
       "    <tr>\n",
       "      <th>223548</th>\n",
       "      <td>fffb5451268fb5ba</td>\n",
       "      <td>\" \\n\\n == Unicorn lair discovery == \\n\\n Suppo...</td>\n",
       "      <td>0</td>\n",
       "      <td>0</td>\n",
       "      <td>0</td>\n",
       "      <td>0</td>\n",
       "      <td>0</td>\n",
       "      <td>0</td>\n",
       "      <td>[Unicorn, lair, discovery, Supposedly, ,, a, u...</td>\n",
       "    </tr>\n",
       "  </tbody>\n",
       "</table>\n",
       "<p>223549 rows × 9 columns</p>\n",
       "</div>"
      ],
      "text/plain": [
       "                      id                                       comment_text  \\\n",
       "0       0000997932d777bf  Explanation\\nWhy the edits made under my usern...   \n",
       "1       000103f0d9cfb60f  D'aww! He matches this background colour I'm s...   \n",
       "2       000113f07ec002fd  Hey man, I'm really not trying to edit war. It...   \n",
       "3       0001b41b1c6bb37e  \"\\nMore\\nI can't make any real suggestions on ...   \n",
       "4       0001d958c54c6e35  You, sir, are my hero. Any chance you remember...   \n",
       "...                  ...                                                ...   \n",
       "223544  fff8f64043129fa2  :Jerome, I see you never got around to this…! ...   \n",
       "223545  fff9d70fe0722906  ==Lucky bastard== \\n http://wikimediafoundatio...   \n",
       "223546  fffa8a11c4378854  ==shame on you all!!!== \\n\\n You want to speak...   \n",
       "223547  fffac2a094c8e0e2  MEL GIBSON IS A NAZI BITCH WHO MAKES SHITTY MO...   \n",
       "223548  fffb5451268fb5ba  \" \\n\\n == Unicorn lair discovery == \\n\\n Suppo...   \n",
       "\n",
       "        toxic  severe_toxic  obscene  threat  insult  identity_hate  \\\n",
       "0           0             0        0       0       0              0   \n",
       "1           0             0        0       0       0              0   \n",
       "2           0             0        0       0       0              0   \n",
       "3           0             0        0       0       0              0   \n",
       "4           0             0        0       0       0              0   \n",
       "...       ...           ...      ...     ...     ...            ...   \n",
       "223544      0             0        0       0       0              0   \n",
       "223545      0             0        0       0       0              0   \n",
       "223546      0             0        0       0       0              0   \n",
       "223547      1             0        1       0       1              0   \n",
       "223548      0             0        0       0       0              0   \n",
       "\n",
       "                                                   tokens  \n",
       "0       [Explanation, Why, the, edits, made, under, my...  \n",
       "1       [D, aww, !, He, matches, this, background, col...  \n",
       "2       [Hey, man, ,, I, m, really, not, trying, to, e...  \n",
       "3       [More, I, can, t, make, any, real, suggestions...  \n",
       "4       [You, ,, sir, ,, are, my, hero, ., Any, chance...  \n",
       "...                                                   ...  \n",
       "223544  [Jerome, ,, I, see, you, never, got, around, t...  \n",
       "223545  [Lucky, bastard, http, wikimediafoundation, .,...  \n",
       "223546  [shame, on, you, all, !, !, !, You, want, to, ...  \n",
       "223547  [MEL, GIBSON, IS, A, NAZI, BITCH, WHO, MAKES, ...  \n",
       "223548  [Unicorn, lair, discovery, Supposedly, ,, a, u...  \n",
       "\n",
       "[223549 rows x 9 columns]"
      ]
     },
     "execution_count": 10,
     "metadata": {},
     "output_type": "execute_result"
    }
   ],
   "source": [
    "data"
   ]
  },
  {
   "cell_type": "code",
   "execution_count": 124,
   "metadata": {},
   "outputs": [],
   "source": [
    "texts = data['tokens']\n",
    "y = data['toxic']"
   ]
  },
  {
   "cell_type": "markdown",
   "metadata": {},
   "source": [
    "Отделим немного данных на тестирование в конце"
   ]
  },
  {
   "cell_type": "code",
   "execution_count": 125,
   "metadata": {},
   "outputs": [],
   "source": [
    "text_chosen, text_other, y_chosen, y_other = train_test_split(texts, y, test_size=0.05, stratify=y, random_state = 0)"
   ]
  },
  {
   "cell_type": "code",
   "execution_count": 126,
   "metadata": {},
   "outputs": [],
   "source": [
    "X = text_chosen\n",
    "y = y_chosen"
   ]
  },
  {
   "cell_type": "code",
   "execution_count": 127,
   "metadata": {},
   "outputs": [],
   "source": [
    "y = y_chosen"
   ]
  },
  {
   "cell_type": "code",
   "execution_count": 128,
   "metadata": {},
   "outputs": [
    {
     "data": {
      "text/plain": [
       "212371"
      ]
     },
     "execution_count": 128,
     "metadata": {},
     "output_type": "execute_result"
    }
   ],
   "source": [
    "len(X)"
   ]
  },
  {
   "cell_type": "code",
   "execution_count": 129,
   "metadata": {},
   "outputs": [
    {
     "data": {
      "text/plain": [
       "212371"
      ]
     },
     "execution_count": 129,
     "metadata": {},
     "output_type": "execute_result"
    }
   ],
   "source": [
    "len(y)"
   ]
  },
  {
   "cell_type": "code",
   "execution_count": 130,
   "metadata": {},
   "outputs": [],
   "source": [
    "from collections import Counter"
   ]
  },
  {
   "cell_type": "code",
   "execution_count": 131,
   "metadata": {},
   "outputs": [],
   "source": [
    "vocab = Counter()\n",
    "\n",
    "for text in text_chosen:\n",
    "    vocab.update(text)"
   ]
  },
  {
   "cell_type": "code",
   "execution_count": 132,
   "metadata": {},
   "outputs": [
    {
     "data": {
      "text/plain": [
       "273170"
      ]
     },
     "execution_count": 132,
     "metadata": {},
     "output_type": "execute_result"
    }
   ],
   "source": [
    "len(vocab)"
   ]
  },
  {
   "cell_type": "code",
   "execution_count": 133,
   "metadata": {},
   "outputs": [],
   "source": [
    "filtered_vocab = set([token for token in vocab if vocab[token] > 5])"
   ]
  },
  {
   "cell_type": "code",
   "execution_count": 134,
   "metadata": {},
   "outputs": [
    {
     "data": {
      "text/plain": [
       "53376"
      ]
     },
     "execution_count": 134,
     "metadata": {},
     "output_type": "execute_result"
    }
   ],
   "source": [
    "len(filtered_vocab)"
   ]
  },
  {
   "cell_type": "code",
   "execution_count": 135,
   "metadata": {},
   "outputs": [],
   "source": [
    "token2id = {'UNK':1, 'PAD':0}\n",
    "\n",
    "for token in filtered_vocab:\n",
    "    token2id[token] = len(token2id)\n",
    "    \n",
    "id2token = {i:token for token, i in token2id.items()}"
   ]
  },
  {
   "cell_type": "code",
   "execution_count": 136,
   "metadata": {},
   "outputs": [],
   "source": [
    "def text2ids(text):\n",
    "    ids = []\n",
    "    for token in text:\n",
    "        try:\n",
    "            ids.append(token2id[token])\n",
    "        except KeyError:\n",
    "            ids.append(1)\n",
    "    return ids"
   ]
  },
  {
   "cell_type": "code",
   "execution_count": 137,
   "metadata": {},
   "outputs": [],
   "source": [
    "X_id = [text2ids(tokens) for tokens in X]"
   ]
  },
  {
   "cell_type": "code",
   "execution_count": 138,
   "metadata": {},
   "outputs": [
    {
     "data": {
      "text/plain": [
       "4948"
      ]
     },
     "execution_count": 138,
     "metadata": {},
     "output_type": "execute_result"
    }
   ],
   "source": [
    "MAX_LEN = max([len(tokens) for tokens in X])\n",
    "MAX_LEN"
   ]
  },
  {
   "cell_type": "code",
   "execution_count": 139,
   "metadata": {},
   "outputs": [],
   "source": [
    "import numpy as np"
   ]
  },
  {
   "cell_type": "code",
   "execution_count": 140,
   "metadata": {},
   "outputs": [
    {
     "data": {
      "text/plain": [
       "40.0"
      ]
     },
     "execution_count": 140,
     "metadata": {},
     "output_type": "execute_result"
    }
   ],
   "source": [
    "np.median([len(tokens) for tokens in X])"
   ]
  },
  {
   "cell_type": "code",
   "execution_count": 141,
   "metadata": {},
   "outputs": [],
   "source": [
    "MAX_LEN = 100"
   ]
  },
  {
   "cell_type": "code",
   "execution_count": 28,
   "metadata": {},
   "outputs": [
    {
     "data": {
      "text/plain": [
       "66805     [This, won, t, by, itself, be, more, o, a, pre...\n",
       "140941    [The, matrices, are, correct, but, not, the, m...\n",
       "155431    [You, do, not, own, a, page, because, it, happ...\n",
       "31074     [Hi, again, You, might, want, to, read, this, ...\n",
       "182566    [In, the, era, of, YouTube, ,, people, who, mi...\n",
       "94934     [With, all, due, respect, ,, the, criticism, s...\n",
       "194833    [Please, know, that, Wikipedia, is, not, a, me...\n",
       "149411    [Doh, !, Read, it, wrong, ., Never, mind, ., d...\n",
       "52652     [e, c, Thanks, for, the, offer, Tom, ,, I, did...\n",
       "144379    [Uncle, douggie, sound, like, a, shirt, lifter...\n",
       "Name: tokens, dtype: object"
      ]
     },
     "execution_count": 28,
     "metadata": {},
     "output_type": "execute_result"
    }
   ],
   "source": [
    "X[:10]"
   ]
  },
  {
   "cell_type": "code",
   "execution_count": 142,
   "metadata": {},
   "outputs": [],
   "source": [
    "X_pad = tf.keras.preprocessing.sequence.pad_sequences(X_id, maxlen=MAX_LEN)"
   ]
  },
  {
   "cell_type": "code",
   "execution_count": 143,
   "metadata": {},
   "outputs": [
    {
     "data": {
      "text/plain": [
       "numpy.ndarray"
      ]
     },
     "execution_count": 143,
     "metadata": {},
     "output_type": "execute_result"
    }
   ],
   "source": [
    "type(X_pad)"
   ]
  },
  {
   "cell_type": "code",
   "execution_count": 32,
   "metadata": {},
   "outputs": [],
   "source": [
    "from sklearn.model_selection import train_test_split"
   ]
  },
  {
   "cell_type": "code",
   "execution_count": 144,
   "metadata": {},
   "outputs": [],
   "source": [
    "X_train, X_valid, y_train, y_valid = train_test_split(X_pad, y_chosen, test_size=0.05, stratify=y)"
   ]
  },
  {
   "cell_type": "code",
   "execution_count": 146,
   "metadata": {},
   "outputs": [],
   "source": [
    "roc_ouc = tf.keras.metrics.AUC(\n",
    "    num_thresholds=200, curve='ROC', summation_method='interpolation', name=None,\n",
    "    dtype=None, thresholds=None, multi_label=False, label_weights=None\n",
    ")"
   ]
  },
  {
   "cell_type": "code",
   "execution_count": 147,
   "metadata": {},
   "outputs": [],
   "source": [
    "                     # ModelCheckpoint сохраняет лучшие версии моделей\n",
    "checkpoint = tf.keras.callbacks.ModelCheckpoint('model.weights', # названия файла \n",
    "                                                monitor='val_f1', # за какой метрикой следить\n",
    "                                                verbose=1, # будет печатать что происходит\n",
    "                                                save_weights_only=True, # если нужно только веса сохранить\n",
    "                                                save_best_only=True, # сохранять только лучшие\n",
    "                                                mode='max', # если метрика должна расти, то тут max и min если наоборот\n",
    "                                                save_freq='epoch' # как часто вызывать\n",
    "                                               )\n",
    "\n",
    "# EarlyStopping позволяет автоматически остановить обучение, если качество не улучшается \n",
    "early_stop = tf.keras.callbacks.EarlyStopping(monitor='val_f1', \n",
    "                                              min_delta=0.01, # какая разница считается как улучшение\n",
    "                                              patience=3, # сколько эпох терпеть отсутствие улучшений\n",
    "                                              verbose=1, \n",
    "                                              mode='max'\n",
    "                                              )                   "
   ]
  },
  {
   "cell_type": "code",
   "execution_count": 148,
   "metadata": {},
   "outputs": [],
   "source": [
    "inputs = tf.keras.layers.Input(shape=(int(MAX_LEN),))\n",
    "embeddings = tf.keras.layers.Embedding(input_dim=len(token2id), output_dim=500)(inputs)\n",
    "\n",
    "drop1 = tf.keras.layers.Dropout(0.2)(embeddings)\n",
    "conv1 = tf.keras.layers.Conv1D(kernel_size=3, filters=32, padding='same', strides=1)(drop1)\n",
    "pool1 = pool1 = tf.compat.v1.keras.layers.MaxPool1D()(conv1)\n",
    "conv2 = tf.keras.layers.Conv1D(kernel_size=2, filters=10, padding='same', strides=1)(pool1)\n",
    "pool2 = pool1 = tf.compat.v1.keras.layers.MaxPool1D()(conv2)\n",
    "conv3 = tf.keras.layers.Conv1D(kernel_size=2, filters=5, padding='same', strides=1)(pool2)\n",
    "pool3 = tf.compat.v1.keras.layers.MaxPool1D()(conv3)\n",
    "\n",
    "flatten = tf.keras.layers.Flatten()(pool3)\n",
    "dense = tf.keras.layers.Dense(50, activation='relu')(flatten)\n",
    "outputs = tf.keras.layers.Dense(1, activation='sigmoid')(dense)\n",
    "\n",
    "model = tf.keras.Model(inputs=inputs, outputs=outputs)\n",
    "optimizer = tf.keras.optimizers.Adam(learning_rate=0.001)\n",
    "model.compile(optimizer=optimizer,\n",
    "              loss='binary_crossentropy',\n",
    "              metrics=[f1, roc_ouc])"
   ]
  },
  {
   "cell_type": "code",
   "execution_count": 149,
   "metadata": {},
   "outputs": [
    {
     "name": "stdout",
     "output_type": "stream",
     "text": [
      "Epoch 1/50\n",
      "101/101 [==============================] - ETA: 0s - loss: 0.2661 - f1: 0.2224 - auc_3: 0.7867\n",
      "Epoch 00001: val_f1 improved from -inf to 0.58268, saving model to model.weights\n",
      "101/101 [==============================] - 65s 645ms/step - loss: 0.2661 - f1: 0.2224 - auc_3: 0.7867 - val_loss: 0.1669 - val_f1: 0.5827 - val_auc_3: 0.9315\n",
      "Epoch 2/50\n",
      "101/101 [==============================] - ETA: 0s - loss: 0.1286 - f1: 0.7063 - auc_3: 0.9618\n",
      "Epoch 00002: val_f1 improved from 0.58268 to 0.72594, saving model to model.weights\n",
      "101/101 [==============================] - 64s 636ms/step - loss: 0.1286 - f1: 0.7063 - auc_3: 0.9618 - val_loss: 0.1333 - val_f1: 0.7259 - val_auc_3: 0.9584\n",
      "Epoch 3/50\n",
      "101/101 [==============================] - ETA: 0s - loss: 0.0906 - f1: 0.8096 - auc_3: 0.9822\n",
      "Epoch 00003: val_f1 did not improve from 0.72594\n",
      "101/101 [==============================] - 63s 619ms/step - loss: 0.0906 - f1: 0.8096 - auc_3: 0.9822 - val_loss: 0.1379 - val_f1: 0.7113 - val_auc_3: 0.9541\n",
      "Epoch 4/50\n",
      "101/101 [==============================] - ETA: 0s - loss: 0.0659 - f1: 0.8678 - auc_3: 0.9908\n",
      "Epoch 00004: val_f1 did not improve from 0.72594\n",
      "101/101 [==============================] - 61s 609ms/step - loss: 0.0659 - f1: 0.8678 - auc_3: 0.9908 - val_loss: 0.1487 - val_f1: 0.7227 - val_auc_3: 0.9478\n",
      "Epoch 5/50\n",
      "101/101 [==============================] - ETA: 0s - loss: 0.0430 - f1: 0.9208 - auc_3: 0.9960\n",
      "Epoch 00005: val_f1 did not improve from 0.72594\n",
      "101/101 [==============================] - 63s 624ms/step - loss: 0.0430 - f1: 0.9208 - auc_3: 0.9960 - val_loss: 0.1713 - val_f1: 0.7079 - val_auc_3: 0.9399\n",
      "Epoch 00005: early stopping\n"
     ]
    },
    {
     "data": {
      "text/plain": [
       "<tensorflow.python.keras.callbacks.History at 0x7f83fc178390>"
      ]
     },
     "execution_count": 149,
     "metadata": {},
     "output_type": "execute_result"
    }
   ],
   "source": [
    "model.fit(X_train, y_train, \n",
    "         validation_data=(X_valid, y_valid),\n",
    "         epochs=50,\n",
    "         batch_size=2000,\n",
    "         callbacks=[checkpoint, early_stop])"
   ]
  },
  {
   "cell_type": "code",
   "execution_count": 120,
   "metadata": {},
   "outputs": [],
   "source": [
    "model.save_weights('rocout_toxic_model.weights')"
   ]
  },
  {
   "cell_type": "code",
   "execution_count": 121,
   "metadata": {},
   "outputs": [
    {
     "name": "stdout",
     "output_type": "stream",
     "text": [
      "dict_keys(['loss', 'f1', 'val_loss', 'val_f1'])\n"
     ]
    },
    {
     "data": {
      "image/png": "[encoded data removed]",
      "text/plain": [
       "<Figure size 432x288 with 1 Axes>"
      ]
     },
     "metadata": {
      "needs_background": "light"
     },
     "output_type": "display_data"
    }
   ],
   "source": [
    "print(model.history.history.keys())\n",
    "plt.plot(model.history.history['f1'])\n",
    "plt.plot(model.history.history['val_f1'])\n",
    "plt.title('model_f1')\n",
    "plt.ylabel('f1')\n",
    "plt.xlabel('epoch')\n",
    "plt.legend(['train', 'val'], loc='upper left')\n",
    "plt.show()"
   ]
  },
  {
   "cell_type": "markdown",
   "metadata": {},
   "source": [
    "Уменьшим количество пулингов"
   ]
  },
  {
   "cell_type": "code",
   "execution_count": 153,
   "metadata": {},
   "outputs": [],
   "source": [
    "inputs = tf.keras.layers.Input(shape=(int(MAX_LEN),))\n",
    "embeddings = tf.keras.layers.Embedding(input_dim=len(token2id), output_dim=500)(inputs)\n",
    "\n",
    "drop1 = tf.keras.layers.Dropout(0.2)(embeddings)\n",
    "conv1 = tf.keras.layers.Conv1D(kernel_size=3, filters=32, padding='same', strides=1)(drop1)\n",
    "conv2 = tf.keras.layers.Conv1D(kernel_size=2, filters=10, padding='same', strides=1)(conv1)\n",
    "pool2 = pool1 = tf.compat.v1.keras.layers.MaxPool1D()(conv2)\n",
    "conv3 = tf.keras.layers.Conv1D(kernel_size=2, filters=5, padding='same', strides=1)(pool2)\n",
    "pool3 = tf.compat.v1.keras.layers.MaxPool1D()(conv3)\n",
    "\n",
    "flatten = tf.keras.layers.Flatten()(pool3)\n",
    "dense = tf.keras.layers.Dense(50, activation='relu')(flatten)\n",
    "outputs = tf.keras.layers.Dense(1, activation='sigmoid')(dense)\n",
    "\n",
    "model = tf.keras.Model(inputs=inputs, outputs=outputs)\n",
    "optimizer = tf.keras.optimizers.Adam(learning_rate=0.001)\n",
    "model.compile(optimizer=optimizer,\n",
    "              loss='binary_crossentropy',\n",
    "              metrics=[f1, roc_ouc])"
   ]
  },
  {
   "cell_type": "code",
   "execution_count": 154,
   "metadata": {},
   "outputs": [
    {
     "name": "stdout",
     "output_type": "stream",
     "text": [
      "Epoch 1/50\n",
      "101/101 [==============================] - ETA: 0s - loss: 0.2458 - f1: 0.2827 - auc_3: 0.8270\n",
      "Epoch 00001: val_f1 did not improve from 0.72594\n",
      "101/101 [==============================] - 66s 649ms/step - loss: 0.2458 - f1: 0.2827 - auc_3: 0.8270 - val_loss: 0.1490 - val_f1: 0.6500 - val_auc_3: 0.9462\n",
      "Epoch 2/50\n",
      "101/101 [==============================] - ETA: 0s - loss: 0.1166 - f1: 0.7430 - auc_3: 0.9690\n",
      "Epoch 00002: val_f1 did not improve from 0.72594\n",
      "101/101 [==============================] - 64s 638ms/step - loss: 0.1166 - f1: 0.7430 - auc_3: 0.9690 - val_loss: 0.1293 - val_f1: 0.7202 - val_auc_3: 0.9603\n",
      "Epoch 3/50\n",
      "101/101 [==============================] - ETA: 0s - loss: 0.0866 - f1: 0.8158 - auc_3: 0.9840\n",
      "Epoch 00003: val_f1 did not improve from 0.72594\n",
      "101/101 [==============================] - 65s 643ms/step - loss: 0.0866 - f1: 0.8158 - auc_3: 0.9840 - val_loss: 0.1369 - val_f1: 0.7244 - val_auc_3: 0.9528\n",
      "Epoch 4/50\n",
      "101/101 [==============================] - ETA: 0s - loss: 0.0653 - f1: 0.8678 - auc_3: 0.9910\n",
      "Epoch 00004: val_f1 improved from 0.72594 to 0.72627, saving model to model.weights\n",
      "101/101 [==============================] - 65s 646ms/step - loss: 0.0653 - f1: 0.8678 - auc_3: 0.9910 - val_loss: 0.1498 - val_f1: 0.7263 - val_auc_3: 0.9462\n",
      "Epoch 5/50\n",
      "101/101 [==============================] - ETA: 0s - loss: 0.0460 - f1: 0.9120 - auc_3: 0.9953\n",
      "Epoch 00005: val_f1 did not improve from 0.72627\n",
      "101/101 [==============================] - 65s 643ms/step - loss: 0.0460 - f1: 0.9120 - auc_3: 0.9953 - val_loss: 0.1656 - val_f1: 0.7255 - val_auc_3: 0.9409\n",
      "Epoch 00005: early stopping\n"
     ]
    },
    {
     "data": {
      "text/plain": [
       "<tensorflow.python.keras.callbacks.History at 0x7f840ab16c50>"
      ]
     },
     "execution_count": 154,
     "metadata": {},
     "output_type": "execute_result"
    }
   ],
   "source": [
    "model.fit(X_train, y_train, \n",
    "         validation_data=(X_valid, y_valid),\n",
    "         epochs=50,\n",
    "         batch_size=2000,\n",
    "         callbacks=[checkpoint, early_stop])"
   ]
  },
  {
   "cell_type": "code",
   "execution_count": 155,
   "metadata": {},
   "outputs": [
    {
     "name": "stdout",
     "output_type": "stream",
     "text": [
      "dict_keys(['loss', 'f1', 'auc_3', 'val_loss', 'val_f1', 'val_auc_3'])\n"
     ]
    },
    {
     "data": {
      "image/png": "[encoded data removed]",
      "text/plain": [
       "<Figure size 432x288 with 1 Axes>"
      ]
     },
     "metadata": {
      "needs_background": "light"
     },
     "output_type": "display_data"
    }
   ],
   "source": [
    "print(model.history.history.keys())\n",
    "plt.plot(model.history.history['f1'])\n",
    "plt.plot(model.history.history['val_f1'])\n",
    "plt.title('model_f1')\n",
    "plt.ylabel('f1')\n",
    "plt.xlabel('epoch')\n",
    "plt.legend(['train', 'val'], loc='upper left')\n",
    "plt.show()"
   ]
  },
  {
   "cell_type": "markdown",
   "metadata": {},
   "source": [
    "Добавим ещё дропаутов"
   ]
  },
  {
   "cell_type": "code",
   "execution_count": 156,
   "metadata": {},
   "outputs": [],
   "source": [
    "inputs = tf.keras.layers.Input(shape=(int(MAX_LEN),))\n",
    "embeddings = tf.keras.layers.Embedding(input_dim=len(token2id), output_dim=500)(inputs)\n",
    "\n",
    "drop1 = tf.keras.layers.Dropout(0.1)(embeddings)\n",
    "conv1 = tf.keras.layers.Conv1D(kernel_size=3, filters=32, padding='same', strides=1)(drop1)\n",
    "drop2 = tf.keras.layers.Dropout(0.05)(conv1)\n",
    "conv2 = tf.keras.layers.Conv1D(kernel_size=2, filters=10, padding='same', strides=1)(drop2)\n",
    "pool2 = pool1 = tf.compat.v1.keras.layers.MaxPool1D()(conv2)\n",
    "conv3 = tf.keras.layers.Conv1D(kernel_size=2, filters=5, padding='same', strides=1)(pool2)\n",
    "pool3 = tf.compat.v1.keras.layers.MaxPool1D()(conv3)\n",
    "drop3 = tf.keras.layers.Dropout(0.1)(pool3)\n",
    "\n",
    "flatten = tf.keras.layers.Flatten()(pool3)\n",
    "dense = tf.keras.layers.Dense(50, activation='relu')(flatten)\n",
    "outputs = tf.keras.layers.Dense(1, activation='sigmoid')(dense)\n",
    "\n",
    "model = tf.keras.Model(inputs=inputs, outputs=outputs)\n",
    "optimizer = tf.keras.optimizers.Adam(learning_rate=0.001)\n",
    "model.compile(optimizer=optimizer,\n",
    "              loss='binary_crossentropy',\n",
    "              metrics=[f1, roc_ouc])"
   ]
  },
  {
   "cell_type": "code",
   "execution_count": 157,
   "metadata": {},
   "outputs": [
    {
     "name": "stdout",
     "output_type": "stream",
     "text": [
      "Epoch 1/50\n",
      "101/101 [==============================] - ETA: 0s - loss: 0.2726 - f1: 0.2418 - auc_3: 0.7888\n",
      "Epoch 00001: val_f1 did not improve from 0.72627\n",
      "101/101 [==============================] - 71s 701ms/step - loss: 0.2726 - f1: 0.2418 - auc_3: 0.7888 - val_loss: 0.1537 - val_f1: 0.6310 - val_auc_3: 0.9414\n",
      "Epoch 2/50\n",
      "101/101 [==============================] - ETA: 0s - loss: 0.1179 - f1: 0.7392 - auc_3: 0.9683\n",
      "Epoch 00002: val_f1 improved from 0.72627 to 0.74288, saving model to model.weights\n",
      "101/101 [==============================] - 67s 667ms/step - loss: 0.1179 - f1: 0.7392 - auc_3: 0.9683 - val_loss: 0.1296 - val_f1: 0.7429 - val_auc_3: 0.9617\n",
      "Epoch 3/50\n",
      "101/101 [==============================] - ETA: 0s - loss: 0.0879 - f1: 0.8146 - auc_3: 0.9834\n",
      "Epoch 00003: val_f1 did not improve from 0.74288\n",
      "101/101 [==============================] - 68s 673ms/step - loss: 0.0879 - f1: 0.8146 - auc_3: 0.9834 - val_loss: 0.1316 - val_f1: 0.7357 - val_auc_3: 0.9590\n",
      "Epoch 4/50\n",
      "101/101 [==============================] - ETA: 0s - loss: 0.0669 - f1: 0.8616 - auc_3: 0.9907\n",
      "Epoch 00004: val_f1 did not improve from 0.74288\n",
      "101/101 [==============================] - 68s 672ms/step - loss: 0.0669 - f1: 0.8616 - auc_3: 0.9907 - val_loss: 0.1483 - val_f1: 0.7326 - val_auc_3: 0.9482\n",
      "Epoch 5/50\n",
      "101/101 [==============================] - ETA: 0s - loss: 0.0499 - f1: 0.9031 - auc_3: 0.9946\n",
      "Epoch 00005: val_f1 did not improve from 0.74288\n",
      "101/101 [==============================] - 68s 670ms/step - loss: 0.0499 - f1: 0.9031 - auc_3: 0.9946 - val_loss: 0.1656 - val_f1: 0.7256 - val_auc_3: 0.9386\n",
      "Epoch 00005: early stopping\n"
     ]
    },
    {
     "data": {
      "text/plain": [
       "<tensorflow.python.keras.callbacks.History at 0x7f840964d3c8>"
      ]
     },
     "execution_count": 157,
     "metadata": {},
     "output_type": "execute_result"
    }
   ],
   "source": [
    "model.fit(X_train, y_train, \n",
    "         validation_data=(X_valid, y_valid),\n",
    "         epochs=50,\n",
    "         batch_size=2000,\n",
    "         callbacks=[checkpoint, early_stop])"
   ]
  },
  {
   "cell_type": "code",
   "execution_count": 158,
   "metadata": {},
   "outputs": [
    {
     "name": "stdout",
     "output_type": "stream",
     "text": [
      "dict_keys(['loss', 'f1', 'auc_3', 'val_loss', 'val_f1', 'val_auc_3'])\n"
     ]
    },
    {
     "data": {
      "image/png": "[encoded data removed]",
      "text/plain": [
       "<Figure size 432x288 with 1 Axes>"
      ]
     },
     "metadata": {
      "needs_background": "light"
     },
     "output_type": "display_data"
    }
   ],
   "source": [
    "print(model.history.history.keys())\n",
    "plt.plot(model.history.history['f1'])\n",
    "plt.plot(model.history.history['val_f1'])\n",
    "plt.title('model_f1')\n",
    "plt.ylabel('f1')\n",
    "plt.xlabel('epoch')\n",
    "plt.legend(['train', 'val'], loc='upper left')\n",
    "plt.show()"
   ]
  },
  {
   "cell_type": "code",
   "execution_count": null,
   "metadata": {},
   "outputs": [],
   "source": [
    "Графики везде показывают f1, roc к концу даже падает по мере увеличения f1"
   ]
  },
  {
   "cell_type": "code",
   "execution_count": null,
   "metadata": {},
   "outputs": [],
   "source": [
    "Поменяем конфигурацию сети "
   ]
  },
  {
   "cell_type": "code",
   "execution_count": 161,
   "metadata": {},
   "outputs": [],
   "source": [
    "\n",
    "inputs = tf.keras.layers.Input(shape=(int(MAX_LEN),))\n",
    "embeddings = tf.keras.layers.Embedding(input_dim=len(token2id), output_dim=100)(inputs)\n",
    "convs = []\n",
    "\n",
    "drop1 = tf.keras.layers.Dropout(0.2)(embeddings)\n",
    "conv1 = tf.keras.layers.Conv1D(kernel_size=3, filters=32, padding='same', strides=1)(drop1)\n",
    "conv2 = tf.keras.layers.Conv1D(kernel_size=2, filters=10, padding='same', strides=1)(conv1)\n",
    "conv3 = tf.keras.layers.Conv1D(kernel_size=2, filters=5, padding='same', strides=1)(conv2)\n",
    "conv4 = tf.keras.layers.Conv1D(kernel_size=2, filters=5, padding='same', strides=1)(conv3)\n",
    "pool1 = tf.compat.v1.keras.layers.MaxPool1D()(conv4)\n",
    "convs.append(pool1)\n",
    "\n",
    "drop2 = tf.keras.layers.Dropout(0.1)(embeddings)\n",
    "conv5 =  tf.keras.layers.Conv1D(kernel_size=10, filters=5, padding='same', strides=1)(drop2)\n",
    "pool2 = tf.compat.v1.keras.layers.MaxPool1D()(conv5)\n",
    "convs.append(pool2)\n",
    "\n",
    "drop3 = tf.keras.layers.Dropout(0.1)(embeddings)\n",
    "conv6 = tf.keras.layers.Conv1D(kernel_size=2, filters=10, padding='same', strides=1)(drop3)\n",
    "conv7 = tf.keras.layers.Conv1D(kernel_size=4, filters=5, padding='same', strides=1)(conv6)\n",
    "pool3 = tf.compat.v1.keras.layers.MaxPool1D()(conv7)\n",
    "convs.append(pool3)\n",
    "\n",
    "drop4 = tf.keras.layers.Dropout(0.2)(embeddings)\n",
    "conv8 = tf.keras.layers.Conv1D(kernel_size=2, filters=5, padding='same', strides=1)(drop4)\n",
    "pool4 = tf.compat.v1.keras.layers.MaxPool1D()(conv8)\n",
    "convs.append(pool4)\n",
    "\n",
    "concat = tf.keras.layers.concatenate(convs, axis=1)\n",
    "conv_global = tf.keras.layers.Conv1D(kernel_size=5, filters=32, strides=1)(concat)\n",
    "flatten = tf.keras.layers.Flatten()(conv_global)\n",
    "dense = tf.keras.layers.Dense(50, activation='relu')(flatten)\n",
    "outputs = tf.keras.layers.Dense(1, activation='sigmoid')(dense)\n",
    "\n",
    "model = tf.keras.Model(inputs=inputs, outputs=outputs)\n",
    "optimizer = tf.keras.optimizers.Adam(learning_rate=0.001)\n",
    "model.compile(optimizer=optimizer,\n",
    "              loss='binary_crossentropy',\n",
    "              metrics=[f1, roc_ouc])"
   ]
  },
  {
   "cell_type": "code",
   "execution_count": 162,
   "metadata": {},
   "outputs": [
    {
     "name": "stdout",
     "output_type": "stream",
     "text": [
      "Epoch 1/50\n",
      "101/101 [==============================] - ETA: 0s - loss: 0.2186 - f1: 0.3612 - auc_3: 0.8738\n",
      "Epoch 00001: val_f1 did not improve from 0.74288\n",
      "101/101 [==============================] - 20s 198ms/step - loss: 0.2186 - f1: 0.3612 - auc_3: 0.8738 - val_loss: 0.1504 - val_f1: 0.7159 - val_auc_3: 0.9506\n",
      "Epoch 2/50\n",
      "101/101 [==============================] - ETA: 0s - loss: 0.1059 - f1: 0.7715 - auc_3: 0.9754\n",
      "Epoch 00002: val_f1 did not improve from 0.74288\n",
      "101/101 [==============================] - 18s 180ms/step - loss: 0.1059 - f1: 0.7715 - auc_3: 0.9754 - val_loss: 0.1450 - val_f1: 0.7312 - val_auc_3: 0.9579\n",
      "Epoch 3/50\n",
      "101/101 [==============================] - ETA: 0s - loss: 0.0748 - f1: 0.8433 - auc_3: 0.9882\n",
      "Epoch 00003: val_f1 did not improve from 0.74288\n",
      "101/101 [==============================] - 18s 181ms/step - loss: 0.0748 - f1: 0.8433 - auc_3: 0.9882 - val_loss: 0.1511 - val_f1: 0.7207 - val_auc_3: 0.9511\n",
      "Epoch 4/50\n",
      "101/101 [==============================] - ETA: 0s - loss: 0.0535 - f1: 0.8927 - auc_3: 0.9940\n",
      "Epoch 00004: val_f1 did not improve from 0.74288\n",
      "101/101 [==============================] - 18s 179ms/step - loss: 0.0535 - f1: 0.8927 - auc_3: 0.9940 - val_loss: 0.1724 - val_f1: 0.6997 - val_auc_3: 0.9459\n",
      "Epoch 5/50\n",
      "101/101 [==============================] - ETA: 0s - loss: 0.0355 - f1: 0.9336 - auc_3: 0.9971\n",
      "Epoch 00005: val_f1 did not improve from 0.74288\n",
      "101/101 [==============================] - 18s 179ms/step - loss: 0.0355 - f1: 0.9336 - auc_3: 0.9971 - val_loss: 0.2055 - val_f1: 0.6963 - val_auc_3: 0.9313\n",
      "Epoch 00005: early stopping\n"
     ]
    },
    {
     "data": {
      "text/plain": [
       "<tensorflow.python.keras.callbacks.History at 0x7f8409077c88>"
      ]
     },
     "execution_count": 162,
     "metadata": {},
     "output_type": "execute_result"
    }
   ],
   "source": [
    "model.fit(X_train, y_train, \n",
    "         validation_data=(X_valid, y_valid),\n",
    "         epochs=50,\n",
    "         batch_size=2000,\n",
    "         callbacks=[checkpoint, early_stop])"
   ]
  },
  {
   "cell_type": "code",
   "execution_count": 164,
   "metadata": {},
   "outputs": [
    {
     "name": "stdout",
     "output_type": "stream",
     "text": [
      "dict_keys(['loss', 'f1', 'auc_3', 'val_loss', 'val_f1', 'val_auc_3'])\n"
     ]
    },
    {
     "data": {
      "image/png": "[encoded data removed]",
      "text/plain": [
       "<Figure size 432x288 with 1 Axes>"
      ]
     },
     "metadata": {
      "needs_background": "light"
     },
     "output_type": "display_data"
    }
   ],
   "source": [
    "print(model.history.history.keys())\n",
    "plt.plot(model.history.history['f1'])\n",
    "plt.plot(model.history.history['val_f1'])\n",
    "plt.title('model_f1')\n",
    "plt.ylabel('f1')\n",
    "plt.xlabel('epoch')\n",
    "plt.legend(['train', 'val'], loc='upper left')\n",
    "plt.show()"
   ]
  },
  {
   "cell_type": "markdown",
   "metadata": {},
   "source": [
    "Качество очень быстро перестаёт повышаться, дропауты не спасают от переобучения"
   ]
  }
 ],
 "metadata": {
  "kernelspec": {
   "display_name": "Python 3",
   "language": "python",
   "name": "python3"
  },
  "language_info": {
   "codemirror_mode": {
    "name": "ipython",
    "version": 3
   },
   "file_extension": ".py",
   "mimetype": "text/x-python",
   "name": "python",
   "nbconvert_exporter": "python",
   "pygments_lexer": "ipython3",
   "version": "3.7.4"
  }
 },
 "nbformat": 4,
 "nbformat_minor": 4
}
